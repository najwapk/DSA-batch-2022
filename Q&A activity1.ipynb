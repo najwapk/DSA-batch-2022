{
 "cells": [
  {
   "cell_type": "markdown",
   "id": "0f90ebc2",
   "metadata": {},
   "source": [
    "# 1. Complete the following code to find the area of an equilateral triangle. Output should be as displayed"
   ]
  },
  {
   "cell_type": "code",
   "execution_count": 2,
   "id": "ac3f466e",
   "metadata": {},
   "outputs": [
    {
     "name": "stdout",
     "output_type": "stream",
     "text": [
      "Enter the side of the equilateral triangle: 5\n",
      "Area= 10.825317547305483\n"
     ]
    }
   ],
   "source": [
    "import math\n",
    "side = float(input(\"Enter the side of the equilateral triangle: \"))\n",
    "area = ((math.sqrt(3))/4)*pow(side,2)\n",
    "print('Area=',str(area))  "
   ]
  },
  {
   "cell_type": "markdown",
   "id": "9c68b42e",
   "metadata": {},
   "source": [
    "# 2. Write a program to count the number of each characters in a string\n"
   ]
  },
  {
   "cell_type": "code",
   "execution_count": 3,
   "id": "711cb5a6",
   "metadata": {},
   "outputs": [
    {
     "name": "stdout",
     "output_type": "stream",
     "text": [
      "Enter the string :malayalam\n",
      "m  occurs  2  times\n",
      "a  occurs  4  times\n",
      "l  occurs  2  times\n",
      "y  occurs  1  times\n"
     ]
    }
   ],
   "source": [
    "fullstring=input(\"Enter the string :\")\n",
    "length=len(fullstring)\n",
    "for i in range(0,length):\n",
    "    firstpart=fullstring[0:i]\n",
    "    if fullstring[i] not in firstpart:\n",
    "        print(fullstring[i],\" occurs \",fullstring.count(fullstring[i]),\" times\")\n",
    "    else:\n",
    "        continue"
   ]
  },
  {
   "cell_type": "markdown",
   "id": "0a8bea48",
   "metadata": {},
   "source": [
    "# 3. Write a program to find the area and perimeter of a rectangle using functions"
   ]
  },
  {
   "cell_type": "code",
   "execution_count": 4,
   "id": "ad902647",
   "metadata": {},
   "outputs": [
    {
     "name": "stdout",
     "output_type": "stream",
     "text": [
      "Enter the length of rectangle: 8\n",
      "Enter the breadth of rectangle: 4\n",
      "The area of rectangle is :  32.0\n",
      "The perimeter of rectangle is :  24.0\n"
     ]
    }
   ],
   "source": [
    "length=float(input(\"Enter the length of rectangle: \"))\n",
    "breadth=float(input(\"Enter the breadth of rectangle: \"))\n",
    "def area(l,b):\n",
    "    a=l*b\n",
    "    return a\n",
    "def perimeter(l,b):\n",
    "    p=2*(l+b)\n",
    "    return p\n",
    "print(\"The area of rectangle is : \",area(length,breadth))\n",
    "print(\"The perimeter of rectangle is : \",perimeter(length,breadth))"
   ]
  },
  {
   "cell_type": "markdown",
   "id": "b3a599a2",
   "metadata": {},
   "source": [
    "# 4. Write a program to print the fibonacci series till a specified number"
   ]
  },
  {
   "cell_type": "code",
   "execution_count": 5,
   "id": "79c6d19c",
   "metadata": {},
   "outputs": [
    {
     "name": "stdout",
     "output_type": "stream",
     "text": [
      "Enter the number of terms in fibonacci series: 5\n",
      "Fibonacci series for  5  terms:  0 1 1 2 3 "
     ]
    }
   ],
   "source": [
    "no=int(input(\"Enter the number of terms in fibonacci series: \"))\n",
    "n1=1;n2=0;\n",
    "counter=no\n",
    "if(no==1):\n",
    "    print(\"Fibonacci series for \",no,\" term: \",n2)\n",
    "else:\n",
    "    print(\"Fibonacci series for \",no,\" terms: \",n2,end=' ')\n",
    "    while counter>1:        \n",
    "        n3=n1+n2;\n",
    "        print(n3,end=' ')\n",
    "        n1=n2;n2=n3;\n",
    "        counter-=1"
   ]
  },
  {
   "cell_type": "markdown",
   "id": "bdd835f7",
   "metadata": {},
   "source": [
    "# 5. Complete the following code to find the minimum of 3 number using conditional statements. Output should be as displayed"
   ]
  },
  {
   "cell_type": "code",
   "execution_count": 6,
   "id": "9b1c1959",
   "metadata": {},
   "outputs": [
    {
     "name": "stdout",
     "output_type": "stream",
     "text": [
      "Enter three numbers followed by  : 34 -2 5\n",
      "First number : 34\n",
      "Second number : -2\n",
      "Third number : 5\n",
      "-2  is smallest\n"
     ]
    }
   ],
   "source": [
    "a,b,c = input(\"Enter three numbers followed by  : \").split()\n",
    "\n",
    "print(\"First number :\",a)\n",
    "print(\"Second number :\",b)\n",
    "print(\"Third number :\",c)\n",
    "if(a==b and b==c):\n",
    "    print(\"Entered numbers are equal!!!\")\n",
    "elif(a<b and a<c):\n",
    "    print(a,\" is smallest\")\n",
    "elif(b<a and b<c):\n",
    "    print(b,\" is smallest\")\n",
    "else:\n",
    "    print(c,\" is smallest\")"
   ]
  },
  {
   "cell_type": "markdown",
   "id": "6cafd531",
   "metadata": {},
   "source": [
    "# 6. Write a program to print star pyramind. The number of rows should be taken as input from the user"
   ]
  },
  {
   "cell_type": "code",
   "execution_count": 7,
   "id": "958ba581",
   "metadata": {},
   "outputs": [
    {
     "name": "stdout",
     "output_type": "stream",
     "text": [
      "Enter the number of rows: 5\n",
      "        * \n",
      "      * * * \n",
      "    * * * * * \n",
      "  * * * * * * * \n",
      "* * * * * * * * * \n"
     ]
    }
   ],
   "source": [
    "n=int(input(\"Enter the number of rows: \")) \n",
    "for i in range(1,n+1):\n",
    "    for j in range(0,(n-i)*2):\n",
    "        print(\" \", end=\"\")\n",
    "    for k in range(1,i*2):\n",
    "        print(\"* \", end=\"\")\n",
    "    print()"
   ]
  },
  {
   "cell_type": "markdown",
   "id": "813c5e8b",
   "metadata": {},
   "source": [
    "# 7. Complete the following code to convert hour into seconds. Output should be as displayed"
   ]
  },
  {
   "cell_type": "code",
   "execution_count": 8,
   "id": "eceb391d",
   "metadata": {},
   "outputs": [
    {
     "name": "stdout",
     "output_type": "stream",
     "text": [
      "Enter time in Hours : 32\n",
      "32  Hour is equal to 115200  Seconds\n"
     ]
    }
   ],
   "source": [
    "def to_seconds(t):\n",
    "    t*=3600\n",
    "    return t\n",
    "time_in_hours = int(input(\"Enter time in Hours : \"))\n",
    "print(time_in_hours ,\" Hour is equal to\" ,to_seconds(time_in_hours) ,\" Seconds\")"
   ]
  },
  {
   "cell_type": "markdown",
   "id": "05177dbd",
   "metadata": {},
   "source": [
    "# 8. Write a program to print multiplication table as below"
   ]
  },
  {
   "cell_type": "code",
   "execution_count": 9,
   "id": "9a31fd7e",
   "metadata": {},
   "outputs": [
    {
     "name": "stdout",
     "output_type": "stream",
     "text": [
      "Enter a number to find the multiplication table: 4\n",
      "1  x  4  =  4\n",
      "2  x  4  =  8\n",
      "3  x  4  =  12\n",
      "4  x  4  =  16\n",
      "5  x  4  =  20\n",
      "6  x  4  =  24\n",
      "7  x  4  =  28\n",
      "8  x  4  =  32\n",
      "9  x  4  =  36\n",
      "10  x  4  =  40\n"
     ]
    }
   ],
   "source": [
    "n=int(input(\"Enter a number to find the multiplication table: \"))\n",
    "for i in range(1,11):\n",
    "    print(i,\" x \",n,\" = \",i*n)"
   ]
  },
  {
   "cell_type": "markdown",
   "id": "51d3d503",
   "metadata": {},
   "source": [
    "# 9. Write a program to take your 5 favorite food as list and print each as 'I like Biriyani'"
   ]
  },
  {
   "cell_type": "code",
   "execution_count": null,
   "id": "fab63355",
   "metadata": {},
   "outputs": [],
   "source": [
    "fud_list=input(\"Enter your 5 favourite food items separated by space\\n\").split()\n",
    "for i in range(0,5):\n",
    "    print(\"I like \",fud_list[i])"
   ]
  },
  {
   "cell_type": "code",
   "execution_count": null,
   "id": "ca94543b",
   "metadata": {},
   "outputs": [],
   "source": []
  }
 ],
 "metadata": {
  "kernelspec": {
   "display_name": "Python 3 (ipykernel)",
   "language": "python",
   "name": "python3"
  },
  "language_info": {
   "codemirror_mode": {
    "name": "ipython",
    "version": 3
   },
   "file_extension": ".py",
   "mimetype": "text/x-python",
   "name": "python",
   "nbconvert_exporter": "python",
   "pygments_lexer": "ipython3",
   "version": "3.9.7"
  }
 },
 "nbformat": 4,
 "nbformat_minor": 5
}
